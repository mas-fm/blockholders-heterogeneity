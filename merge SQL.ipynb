{
 "cells": [
  {
   "cell_type": "code",
   "execution_count": 1,
   "metadata": {},
   "outputs": [],
   "source": [
    "import pandas as pd\n",
    "import numpy as np\n",
    "from pandasql import sqldf"
   ]
  },
  {
   "cell_type": "code",
   "execution_count": 2,
   "metadata": {},
   "outputs": [],
   "source": [
    "pysqldf = lambda q: sqldf(q, globals())"
   ]
  },
  {
   "cell_type": "code",
   "execution_count": 3,
   "metadata": {},
   "outputs": [],
   "source": [
    "df = pd.read_excel (r'D:\\User\\Desktop\\thesis\\data\\blockholders\\main data\\firm\\firms_holder_number.xlsx')\n",
    "dd = pd.read_excel (r'D:\\User\\Desktop\\thesis\\data\\blockholders\\main data\\firm\\firm.xlsx')"
   ]
  },
  {
   "cell_type": "code",
   "execution_count": 9,
   "metadata": {},
   "outputs": [
    {
     "data": {
      "text/plain": [
       "['firm', 'group_name', 'year', 'Mean_marketcap', 'total_percent_ownership']"
      ]
     },
     "execution_count": 9,
     "metadata": {},
     "output_type": "execute_result"
    }
   ],
   "source": [
    "list(dd)"
   ]
  },
  {
   "cell_type": "code",
   "execution_count": 10,
   "metadata": {},
   "outputs": [],
   "source": [
    "q = '''\n",
    "SELECT dd.total_percent_ownership\n",
    "FROM dd,df\n",
    "WHERE dd.firm = df.firm AND dd.group_name = df.group_name AND dd.year = df.year\n",
    "'''\n",
    "names = (pysqldf(q))"
   ]
  },
  {
   "cell_type": "code",
   "execution_count": 11,
   "metadata": {},
   "outputs": [],
   "source": [
    "list_total_percent = list(names['total_percent_ownership'])"
   ]
  },
  {
   "cell_type": "code",
   "execution_count": 12,
   "metadata": {},
   "outputs": [],
   "source": [
    "df['total_percent_ownership'] = list_total_percent"
   ]
  },
  {
   "cell_type": "code",
   "execution_count": 13,
   "metadata": {},
   "outputs": [
    {
     "data": {
      "text/html": [
       "<div>\n",
       "<style scoped>\n",
       "    .dataframe tbody tr th:only-of-type {\n",
       "        vertical-align: middle;\n",
       "    }\n",
       "\n",
       "    .dataframe tbody tr th {\n",
       "        vertical-align: top;\n",
       "    }\n",
       "\n",
       "    .dataframe thead th {\n",
       "        text-align: right;\n",
       "    }\n",
       "</style>\n",
       "<table border=\"1\" class=\"dataframe\">\n",
       "  <thead>\n",
       "    <tr style=\"text-align: right;\">\n",
       "      <th></th>\n",
       "      <th>firm</th>\n",
       "      <th>group_name</th>\n",
       "      <th>year</th>\n",
       "      <th>Holder_Number</th>\n",
       "      <th>type_Number</th>\n",
       "      <th>total_percent_ownership</th>\n",
       "    </tr>\n",
       "  </thead>\n",
       "  <tbody>\n",
       "    <tr>\n",
       "      <th>0</th>\n",
       "      <td>آ س پ</td>\n",
       "      <td>انبوه سازی، املاک و مستغلات</td>\n",
       "      <td>1390</td>\n",
       "      <td>7</td>\n",
       "      <td>3</td>\n",
       "      <td>91.53</td>\n",
       "    </tr>\n",
       "    <tr>\n",
       "      <th>1</th>\n",
       "      <td>آ س پ</td>\n",
       "      <td>انبوه سازی، املاک و مستغلات</td>\n",
       "      <td>1391</td>\n",
       "      <td>12</td>\n",
       "      <td>5</td>\n",
       "      <td>91.80</td>\n",
       "    </tr>\n",
       "    <tr>\n",
       "      <th>2</th>\n",
       "      <td>آ س پ</td>\n",
       "      <td>انبوه سازی، املاک و مستغلات</td>\n",
       "      <td>1392</td>\n",
       "      <td>14</td>\n",
       "      <td>5</td>\n",
       "      <td>92.57</td>\n",
       "    </tr>\n",
       "    <tr>\n",
       "      <th>3</th>\n",
       "      <td>آ س پ</td>\n",
       "      <td>انبوه سازی، املاک و مستغلات</td>\n",
       "      <td>1393</td>\n",
       "      <td>7</td>\n",
       "      <td>4</td>\n",
       "      <td>91.26</td>\n",
       "    </tr>\n",
       "    <tr>\n",
       "      <th>4</th>\n",
       "      <td>آ س پ</td>\n",
       "      <td>انبوه سازی، املاک و مستغلات</td>\n",
       "      <td>1394</td>\n",
       "      <td>6</td>\n",
       "      <td>3</td>\n",
       "      <td>90.59</td>\n",
       "    </tr>\n",
       "    <tr>\n",
       "      <th>...</th>\n",
       "      <td>...</td>\n",
       "      <td>...</td>\n",
       "      <td>...</td>\n",
       "      <td>...</td>\n",
       "      <td>...</td>\n",
       "      <td>...</td>\n",
       "    </tr>\n",
       "    <tr>\n",
       "      <th>6669</th>\n",
       "      <td>گکیش</td>\n",
       "      <td>هتل و رستوران</td>\n",
       "      <td>1400</td>\n",
       "      <td>3</td>\n",
       "      <td>2</td>\n",
       "      <td>59.92</td>\n",
       "    </tr>\n",
       "    <tr>\n",
       "      <th>6670</th>\n",
       "      <td>یارا</td>\n",
       "      <td>صندوق سرمایه گذاری قابل معامله</td>\n",
       "      <td>1400</td>\n",
       "      <td>7</td>\n",
       "      <td>3</td>\n",
       "      <td>20.20</td>\n",
       "    </tr>\n",
       "    <tr>\n",
       "      <th>6671</th>\n",
       "      <td>یاقوت</td>\n",
       "      <td>صندوق سرمایه گذاری قابل معامله</td>\n",
       "      <td>1398</td>\n",
       "      <td>5</td>\n",
       "      <td>2</td>\n",
       "      <td>18.37</td>\n",
       "    </tr>\n",
       "    <tr>\n",
       "      <th>6672</th>\n",
       "      <td>یاقوت</td>\n",
       "      <td>صندوق سرمایه گذاری قابل معامله</td>\n",
       "      <td>1399</td>\n",
       "      <td>17</td>\n",
       "      <td>6</td>\n",
       "      <td>89.84</td>\n",
       "    </tr>\n",
       "    <tr>\n",
       "      <th>6673</th>\n",
       "      <td>یاقوت</td>\n",
       "      <td>صندوق سرمایه گذاری قابل معامله</td>\n",
       "      <td>1400</td>\n",
       "      <td>7</td>\n",
       "      <td>4</td>\n",
       "      <td>64.32</td>\n",
       "    </tr>\n",
       "  </tbody>\n",
       "</table>\n",
       "<p>6674 rows × 6 columns</p>\n",
       "</div>"
      ],
      "text/plain": [
       "       firm                      group_name  year  Holder_Number  type_Number  \\\n",
       "0     آ س پ     انبوه سازی، املاک و مستغلات  1390              7            3   \n",
       "1     آ س پ     انبوه سازی، املاک و مستغلات  1391             12            5   \n",
       "2     آ س پ     انبوه سازی، املاک و مستغلات  1392             14            5   \n",
       "3     آ س پ     انبوه سازی، املاک و مستغلات  1393              7            4   \n",
       "4     آ س پ     انبوه سازی، املاک و مستغلات  1394              6            3   \n",
       "...     ...                             ...   ...            ...          ...   \n",
       "6669   گکیش                   هتل و رستوران  1400              3            2   \n",
       "6670   یارا  صندوق سرمایه گذاری قابل معامله  1400              7            3   \n",
       "6671  یاقوت  صندوق سرمایه گذاری قابل معامله  1398              5            2   \n",
       "6672  یاقوت  صندوق سرمایه گذاری قابل معامله  1399             17            6   \n",
       "6673  یاقوت  صندوق سرمایه گذاری قابل معامله  1400              7            4   \n",
       "\n",
       "      total_percent_ownership  \n",
       "0                       91.53  \n",
       "1                       91.80  \n",
       "2                       92.57  \n",
       "3                       91.26  \n",
       "4                       90.59  \n",
       "...                       ...  \n",
       "6669                    59.92  \n",
       "6670                    20.20  \n",
       "6671                    18.37  \n",
       "6672                    89.84  \n",
       "6673                    64.32  \n",
       "\n",
       "[6674 rows x 6 columns]"
      ]
     },
     "execution_count": 13,
     "metadata": {},
     "output_type": "execute_result"
    }
   ],
   "source": [
    "df"
   ]
  },
  {
   "cell_type": "code",
   "execution_count": null,
   "metadata": {},
   "outputs": [],
   "source": []
  }
 ],
 "metadata": {
  "interpreter": {
   "hash": "763da00183bb7c02296582d538bd76b241641901358e365d8ded91365b72e64f"
  },
  "kernelspec": {
   "display_name": "Python 3.8.5 ('base': conda)",
   "language": "python",
   "name": "python3"
  },
  "language_info": {
   "codemirror_mode": {
    "name": "ipython",
    "version": 3
   },
   "file_extension": ".py",
   "mimetype": "text/x-python",
   "name": "python",
   "nbconvert_exporter": "python",
   "pygments_lexer": "ipython3",
   "version": "3.8.5"
  },
  "orig_nbformat": 4
 },
 "nbformat": 4,
 "nbformat_minor": 2
}
