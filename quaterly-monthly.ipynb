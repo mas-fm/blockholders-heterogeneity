{
 "cells": [
  {
   "cell_type": "code",
   "execution_count": null,
   "metadata": {},
   "outputs": [],
   "source": [
    "import pandas as pd\n",
    "import numpy as np\n",
    "import matplotlib.pyplot as plt\n",
    "from matplotlib import cm\n",
    "from scipy.stats.mstats import winsorize"
   ]
  },
  {
   "cell_type": "code",
   "execution_count": null,
   "metadata": {},
   "outputs": [],
   "source": [
    "path = r\"E:\\RA_Aghajanzadeh\\Data\\\\{}\"\n",
    "#df = pd.read_csv (r'D:\\User\\Desktop\\data\\main data\\main\\Cleaned_Stocks_Holders_Sample.csv')     \n",
    "df = pd.read_csv(path.format(\"Cleaned_Stocks_Holders_1400_10_06.csv\"))"
   ]
  },
  {
   "cell_type": "code",
   "execution_count": null,
   "metadata": {},
   "outputs": [],
   "source": [
    "df=df.rename(columns={\"name\": \"firm\"})\n",
    "df['year'] = (df[['jalaliDate']]/10000).astype(int)\n"
   ]
  },
  {
   "cell_type": "code",
   "execution_count": null,
   "metadata": {},
   "outputs": [],
   "source": [
    "df['month'] = df.jalaliDate.astype(str).str[4:6]\n",
    "df['kharejghesmat']=df.month.astype(int)/3\n",
    "df['fasl'] = 'Q1'\n",
    "df.loc[df.kharejghesmat > 1,'fasl'] = 'Q2'\n",
    "df.loc[df.kharejghesmat > 2,'fasl'] = 'Q3'\n",
    "df.loc[df.kharejghesmat > 3,'fasl'] = 'Q4'\n",
    "df['Quater']=df.year.astype(str)+df.fasl\n",
    "df=df.drop(['kharejghesmat','fasl'], axis=1)\n",
    "df['Month'] = 'm1'\n",
    "df.loc[df.month == '02','Month'] = 'm2'\n",
    "df.loc[df.month == '03','Month'] = 'm3'\n",
    "df.loc[df.month == '04','Month'] = 'm4'\n",
    "df.loc[df.month == '05','Month'] = 'm5'\n",
    "df.loc[df.month == '06','Month'] = 'm6'\n",
    "df.loc[df.month == '07','Month'] = 'm7'\n",
    "df.loc[df.month == '08','Month'] = 'm8'\n",
    "df.loc[df.month == '09','Month'] = 'm9'\n",
    "df.loc[df.month == '10','Month'] = 'm10'\n",
    "df.loc[df.month == '11','Month'] = 'm11'\n",
    "df.loc[df.month == '12','Month'] = 'm12'\n",
    "df=df.drop(['month'], axis=1)\n",
    "\n",
    "df"
   ]
  }
 ],
 "metadata": {
  "interpreter": {
   "hash": "763da00183bb7c02296582d538bd76b241641901358e365d8ded91365b72e64f"
  },
  "kernelspec": {
   "display_name": "Python 3.8.5 ('base': conda)",
   "language": "python",
   "name": "python3"
  },
  "language_info": {
   "name": "python",
   "version": "3.8.5"
  },
  "orig_nbformat": 4
 },
 "nbformat": 4,
 "nbformat_minor": 2
}
